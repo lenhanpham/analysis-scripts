{
 "cells": [
  {
   "cell_type": "code",
   "execution_count": 10,
   "metadata": {},
   "outputs": [
    {
     "name": "stdout",
     "output_type": "stream",
     "text": [
      "Number of atoms in the molecule: 105\n",
      "[ 0. -0.  0.]\n",
      "[ 0.24130909 -0.16919532  0.40390948]\n",
      "[ 0.48261819 -0.33839063  0.80781896]\n",
      "[ 0.72392728 -0.50758595  1.21172843]\n",
      "[ 0.96523638 -0.67678126  1.61563791]\n"
     ]
    }
   ],
   "source": [
    "from rdkit import Chem\n",
    "from rdkit.Chem import AllChem\n",
    "import numpy as np\n",
    "import os\n",
    "\n",
    "# Read the initial molecule\n",
    "mol_file_name = 'Test-structure2.mol'\n",
    "mol = Chem.MolFromMolFile(mol_file_name, removeHs=False)  # Include hydrogen atoms\n",
    "\n",
    "# Check the number of atoms in the molecule\n",
    "num_atoms = mol.GetNumAtoms()\n",
    "print(f\"Number of atoms in the molecule: {num_atoms}\")\n",
    "\n",
    "# Define the atoms that define the bond\n",
    "atom1_index = 2   # Index of the first atom defining the bond (Carbon), adjusted to start from 0\n",
    "atom2_index = 64 # Ensure atom index is within range, adjusted to start from 0\n",
    "stepDiff=0.5 # distance change of every step \n",
    "\n",
    "# Define the atoms in each fragment\n",
    "fragment1_atoms = list(range(0, 50))  # Atom indices of fragment 1, adjusted to start from 0\n",
    "fragment2_atoms = list(range(50, num_atoms))  # Atom indices of fragment 2\n",
    "\n",
    "# Calculate the vector along the bond\n",
    "atom1_coords = mol.GetConformer().GetAtomPosition(atom1_index)\n",
    "atom2_coords = mol.GetConformer().GetAtomPosition(atom2_index)\n",
    "bond_vector = np.array(atom2_coords) - np.array(atom1_coords)\n",
    "bond_length = np.linalg.norm(bond_vector)\n",
    "unit_bond_vector = bond_vector / bond_length\n",
    "\n",
    "# User-provided starting distance\n",
    "starting_distance = bond_length\n",
    "\n",
    "# Extract the filename without extension\n",
    "mol_filename = os.path.splitext(mol_file_name)[0]\n",
    "\n",
    "# Loop to increase the distance along the bond\n",
    "for step in range(5):\n",
    "    # Calculate the distance for this step\n",
    "    distance = starting_distance + stepDiff * step\n",
    "\n",
    "    # Copy the original molecule\n",
    "    new_mol = Chem.Mol(mol)\n",
    "\n",
    "    # Calculate the translation vector along the bond\n",
    "    translation_vector = unit_bond_vector * abs(distance - starting_distance)\n",
    "\n",
    "    print(translation_vector)\n",
    "    \n",
    "    # Move fragment 1 along the bond\n",
    "    for atom_index in fragment1_atoms:\n",
    "        atom_position = new_mol.GetConformer().GetAtomPosition(atom_index)\n",
    "        new_position = atom_position - translation_vector\n",
    "        new_mol.GetConformer().SetAtomPosition(atom_index, new_position)\n",
    "\n",
    "    # Save the modified molecule coordinates with the original filename as prefix\n",
    "    output_file_name = f'{mol_filename}_{distance:.3f}.mol'\n",
    "    Chem.MolToMolFile(new_mol, output_file_name)\n"
   ]
  }
 ],
 "metadata": {
  "kernelspec": {
   "display_name": "ml",
   "language": "python",
   "name": "python3"
  },
  "language_info": {
   "codemirror_mode": {
    "name": "ipython",
    "version": 3
   },
   "file_extension": ".py",
   "mimetype": "text/x-python",
   "name": "python",
   "nbconvert_exporter": "python",
   "pygments_lexer": "ipython3",
   "version": "3.8.12"
  }
 },
 "nbformat": 4,
 "nbformat_minor": 2
}
