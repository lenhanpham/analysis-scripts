{
 "cells": [
  {
   "cell_type": "code",
   "execution_count": 8,
   "metadata": {},
   "outputs": [
    {
     "data": {
      "image/png": "[encoded data removed]",
      "text/plain": [
       "<Figure size 800x800 with 3 Axes>"
      ]
     },
     "metadata": {},
     "output_type": "display_data"
    }
   ],
   "source": [
    "\"\"\"\n",
    " @author Le Nhan Pham\n",
    " @website https://lenhanpham.github.io/\n",
    " @create date 2023-02-01 18:10:21\n",
    " @modify date 2023-02-01 18:10:21\n",
    "\"\"\"\n",
    "\n",
    "\n",
    "\n",
    "import matplotlib.pyplot as plt\n",
    "from brokenaxes import brokenaxes\n",
    "\n",
    "\n",
    "def extractData2files(tdFile,):\n",
    "    \"\"\"\n",
    "    This function is used when TDDFT runs for singlet and triplet separately\n",
    "    \"\"\"\n",
    "    ss = 'Excitation energies and oscillator strengths'\n",
    "    with open(tdFile, 'r') as f:\n",
    "        numSstates = 0\n",
    "        numTstates = 0\n",
    "        Senergies, Sstates, Tenergies, Tstates = [], [], [], []\n",
    "        for line in f:\n",
    "            if 'Excited State' in line:\n",
    "                    tempState = line.split()[3].split(\"-\")[0]\n",
    "                    tempEnergy =float(line.split()[4])\n",
    "                    if str(tempState) == \"Singlet\":\n",
    "                        Senergies.append(tempEnergy)\n",
    "                        numSstates += 1 \n",
    "                        Sstates.append(numSstates)\n",
    "                    elif str(tempState) == \"Triplet\":\n",
    "                        Tenergies.append(tempEnergy)\n",
    "                        numTstates += 1\n",
    "                        Tstates.append(numTstates)\n",
    "\n",
    "\n",
    "        if str(tempState) == \"Singlet\":\n",
    "            return Sstates, Senergies\n",
    "        else:\n",
    "            return Tstates, Tenergies\n",
    "\n",
    "\n",
    "output=\"EDA-Jablonski-diagram\"\n",
    "singletLog ='EDA-singlet'\n",
    "tripletLog ='EDA-triplets'            \n",
    "\n",
    "singletStates, singletEnergies = extractData2files(singletLog+\".log\")\n",
    "tripletStates, tripletEnergies = extractData2files(tripletLog+\".log\") \n",
    "\n",
    "for i in range(len(singletStates)):\n",
    "    singletStates[i] = 2\n",
    "\n",
    "for j in range(len(tripletStates)):\n",
    "    tripletStates[j] = 5 \n",
    "\n",
    "\n",
    "fig = plt.figure(figsize=(8,8))\n",
    "\n",
    "\n",
    "\n",
    "n = 10\n",
    "baxes = brokenaxes(ylims=((-0.05,0.1),(min(singletEnergies[0:n] + tripletEnergies[0:n])-0.1,max(singletEnergies[0:n] + tripletEnergies[0:n])+0.01)), hspace=0.05)\n",
    "#baxes.scatter(singletStates[0:n], singletEnergies[0:n])\n",
    "#baxes.scatter(tripletStates[0:n], tripletEnergies[0:n], )\n",
    "baxes.set_ylabel(\"Energy / eV\")\n",
    "baxes.set_xlabel(\"Electronic state\")\n",
    "baxes.set_xlim([0,7])\n",
    "for i in range(n):\n",
    "    baxes.hlines(singletEnergies[i], 1, 3, 'k')\n",
    "    baxes.hlines(tripletEnergies[i], 4, 6, 'g')\n",
    "baxes.hlines(0, 1, 3, 'k')\n",
    "baxes.axs[1].xaxis.set_ticks([], minor=False)\n",
    "#baxes.axs[1].xaxis.set_tick_params(width=10)\n",
    "#baxes.axs[0].yaxis.set_tick_params(width=10)\n",
    "plt.rcParams['axes.linewidth'] = 2\n",
    "\n",
    "plt.savefig(output + '.pdf')\n",
    "plt.savefig(output + '.svg')"
   ]
  }
 ],
 "metadata": {
  "kernelspec": {
   "display_name": "ml",
   "language": "python",
   "name": "python3"
  },
  "language_info": {
   "codemirror_mode": {
    "name": "ipython",
    "version": 3
   },
   "file_extension": ".py",
   "mimetype": "text/x-python",
   "name": "python",
   "nbconvert_exporter": "python",
   "pygments_lexer": "ipython3",
   "version": "3.8.12"
  },
  "orig_nbformat": 4
 },
 "nbformat": 4,
 "nbformat_minor": 2
}
