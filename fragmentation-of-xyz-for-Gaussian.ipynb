{
 "cells": [
  {
   "cell_type": "code",
   "execution_count": 55,
   "metadata": {},
   "outputs": [
    {
     "name": "stdout",
     "output_type": "stream",
     "text": [
      "['C', '-1.398199', '-0.741128', '0.852621', ',1']\n",
      "['C', '-1.278191', '0.398607', '0.044577', ',1']\n",
      "['C', '-2.390290', '0.808853', '-0.702376', ',1']\n",
      "['C', '-3.594119', '0.109496', '-0.631732', ',1']\n",
      "['C', '-3.705316', '-1.014855', '0.185485', ',1']\n",
      "['C', '-2.602120', '-1.437341', '0.928176', ',1']\n",
      "['H', '-0.545823', '-1.080108', '1.436065', ',1']\n",
      "['H', '-2.307661', '1.672983', '-1.356682', ',1']\n",
      "['H', '-4.443562', '0.439719', '-1.223902', ',1']\n",
      "['H', '-4.642568', '-1.562203', '0.238773', ',1']\n",
      "['H', '-2.678004', '-2.312595', '1.568000', ',1']\n",
      "['C', '3.705340', '-1.014791', '-0.185440', ',1']\n",
      "['C', '3.594048', '0.109471', '0.631886', ',1']\n",
      "['C', '2.390202', '0.808800', '0.702493', ',1']\n",
      "['C', '1.278177', '0.398618', '-0.044609', ',1']\n",
      "['C', '1.398280', '-0.741030', '-0.852762', ',1']\n",
      "['C', '2.602220', '-1.437214', '-0.928279', ',1']\n",
      "['H', '4.642605', '-1.562120', '-0.238699', ',1']\n",
      "['H', '4.443431', '0.439643', '1.224172', ',1']\n",
      "['H', '2.307500', '1.672857', '1.356886', ',1']\n",
      "['H', '0.545967', '-1.079960', '-1.436326', ',1']\n",
      "['H', '2.678178', '-2.312398', '-1.568191', ',1']\n",
      "['C', '-0.000013', '1.166205', '-0.000041', ',1']\n",
      "['C', '-0.000022', '2.508043', '-0.000015', ',1']\n",
      "['H', '0.923834', '3.076896', '-0.070794', ',1']\n",
      "['H', '-0.923886', '3.076879', '0.070801', ',1']\n",
      "['C', '-0.218481', '2.477055', '2.490180', ',2']\n",
      "['H', '-0.060931', '3.444461', '3.029992', ',2']\n",
      "['O', '-1.429314', '1.984134', '2.486848', ',2']\n",
      "['C', '0.974478', '1.542994', '2.620836', ',2']\n",
      "['H', '0.952928', '1.022876', '3.602234', ',2']\n",
      "['H', '0.893131', '0.743950', '1.867881', ',2']\n",
      "['C', '2.324244', '2.247873', '2.476796', ',2']\n",
      "['H', '3.163624', '1.555676', '2.618788', ',2']\n",
      "['H', '2.427486', '2.703585', '1.483125', ',2']\n",
      "['H', '2.429305', '3.050579', '3.219390', ',2']\n"
     ]
    }
   ],
   "source": [
    "# write a python function to read a text file and then split all lines to words\n",
    "import sys\n",
    "import os \n",
    "\n",
    "xyzfile = \"Pre-KetylRad-Olefin-0.xyz\"\n",
    "#newxyz = \"Pre-KetylRad-Olefin-0-frag.xyz\"\n",
    "\n",
    "#xyzfile = sys.argv[1]\n",
    "newxyz = os.path.splitext(os.path.basename(xyzfile))[0] + \"-frag.xyz\"\n",
    "\n",
    "def read_file_split_lines(file_path):\n",
    "    with open(file_path, 'r') as file:\n",
    "        lines = [line.split() for line in file.readlines()[2:]]\n",
    "    return lines\n",
    "\n",
    "def add_frag(lines, indices, addItems=\",1\"):\n",
    "    for index in indices:\n",
    "        lines[index].append(addItems)\n",
    "    return lines\n",
    "\n",
    "\n",
    "\n",
    "\n",
    "lines = read_file_split_lines(xyzfile)\n",
    "totalAtoms = len(lines)\n",
    "\n",
    "frag1 = range(0, 26, 1)\n",
    "frag2 = range(26,totalAtoms,1)\n",
    "\n",
    "addFrag1 = add_frag(lines, frag1, \",1\")\n",
    "addFrag2 = add_frag(addFrag1, frag2, \",2\")\n",
    "\n",
    "with open(newxyz, 'w') as xyzFrag:\n",
    "        xyzFrag.write(str(totalAtoms)+\"\\n\")\n",
    "        xyzFrag.write(newxyz+\"\\n\")\n",
    "        for line in addFrag2:\n",
    "            xyzFrag.write(\"{:<4s}{:>14.7f}{:>14.7f}{:>14.7f}{:>4s}\\n\".format(str(line[0]), float(line[1]), float(line[2]), float(line[3]), str(line[4])))\n"
   ]
  }
 ],
 "metadata": {
  "kernelspec": {
   "display_name": "ml",
   "language": "python",
   "name": "python3"
  },
  "language_info": {
   "codemirror_mode": {
    "name": "ipython",
    "version": 3
   },
   "file_extension": ".py",
   "mimetype": "text/x-python",
   "name": "python",
   "nbconvert_exporter": "python",
   "pygments_lexer": "ipython3",
   "version": "3.8.12"
  },
  "orig_nbformat": 4
 },
 "nbformat": 4,
 "nbformat_minor": 2
}
